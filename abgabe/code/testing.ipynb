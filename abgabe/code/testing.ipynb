{
 "cells": [
  {
   "attachments": {},
   "cell_type": "markdown",
   "metadata": {},
   "source": [
    "First check if all packages are installed and install them if they are not, import them after"
   ]
  },
  {
   "cell_type": "code",
   "execution_count": 3,
   "metadata": {
    "collapsed": true
   },
   "outputs": [],
   "source": [
    "!git clone https://github.com/fuzhong2021/mlflow-mall_customer-kmeans.git\n",
    "import sys\n",
    "import subprocess\n",
    "import pkg_resources\n",
    "\n",
    "\n",
    "required = {'pandas', 'numpy', 'matplotlib', 'mlflow', 'scikit-learn', 'jupyter', 'jupyterlab'}\n",
    "installed = {pkg.key for pkg in pkg_resources.working_set}\n",
    "missing = required - installed\n",
    "\n",
    "if missing:\n",
    "    python = sys.executable\n",
    "    subprocess.check_call([python, '-m', 'pip', 'install', *missing], stdout=subprocess.DEVNULL)\n",
    "    \n",
    "sys.path.append('/content/mlflow-mall_customer-kmeans/abgabe/code')\n",
    "\n",
    "import pandas as pd\n",
    "import mlflow\n",
    "import matplotlib.pyplot as plt\n",
    "import train"
   ]
  },
  {
   "attachments": {},
   "cell_type": "markdown",
   "metadata": {
    "collapsed": false
   },
   "source": [
    "import dataframe and use the split method again to get the X_test"
   ]
  },
  {
   "cell_type": "code",
   "execution_count": 4,
   "metadata": {
    "collapsed": false,
    "pycharm": {
     "name": "#%%\n"
    }
   },
   "outputs": [],
   "source": [
    "#load dataset\n",
    "data = pd.read_csv(r'/content/mlflow-mall_customer-kmeans/abgabe/data/out/clean_mall_customer.csv')\n",
    "\n",
    "#split df and take X_test\n",
    "X = train.split_df(data = data[['ageincome','spending_score']])[1]  "
   ]
  },
  {
   "attachments": {},
   "cell_type": "markdown",
   "metadata": {},
   "source": [
    "choose path for best model"
   ]
  },
  {
   "cell_type": "code",
   "execution_count": 1,
   "metadata": {
    "collapsed": false,
    "pycharm": {
     "name": "#%%\n"
    }
   },
   "outputs": [],
   "source": [
    "logged_model = '/content/mlflow-mall_customer-kmeans/abgabe/code/mlruns/0/e0d9f16d8e23484d9da2bd17d50da92d/artifacts/model'"
   ]
  },
  {
   "attachments": {},
   "cell_type": "markdown",
   "metadata": {
    "collapsed": false,
    "pycharm": {
     "name": "#%% md\n"
    }
   },
   "source": [
    "Load the best model and predict the test data, safe predictions in labels"
   ]
  },
  {
   "cell_type": "code",
   "execution_count": 5,
   "metadata": {
    "collapsed": false,
    "pycharm": {
     "name": "#%%\n"
    }
   },
   "outputs": [],
   "source": [
    "model = mlflow.pyfunc.load_model(logged_model)\n",
    "labels = model.predict(X)"
   ]
  },
  {
   "attachments": {},
   "cell_type": "markdown",
   "metadata": {
    "collapsed": false
   },
   "source": [
    "Calculate and print metrics"
   ]
  },
  {
   "cell_type": "code",
   "execution_count": 6,
   "metadata": {
    "collapsed": false,
    "pycharm": {
     "name": "#%%\n"
    }
   },
   "outputs": [
    {
     "name": "stdout",
     "output_type": "stream",
     "text": [
      "---------------Metrics-----------------\n",
      "\n",
      "silhouette: 0.4748112595089834\n",
      "\n",
      "calinski_harabasz: 36.441485744014564\n",
      "\n",
      "davies_bouldin: 0.5973536376356156\n",
      "\n"
     ]
    }
   ],
   "source": [
    "metrics = train.metrics(X, labels)\n",
    "\n",
    "print(\"---------------Metrics-----------------\\n\")\n",
    "print(\"silhouette: \" + str(metrics[0])+ \"\\n\")\n",
    "print(\"calinski_harabasz: \" + str(metrics[1])+ \"\\n\")\n",
    "print(\"davies_bouldin: \" + str(metrics[2])+ \"\\n\")"
   ]
  },
  {
   "attachments": {},
   "cell_type": "markdown",
   "metadata": {
    "collapsed": false
   },
   "source": [
    "The results show that the prediction is even better than the results we had at the training process (see report).\n",
    "\n",
    "At the training process, the calinski_harabasz index was 49.41, now it decreased to 36.44 which is not good.\n",
    "Besides that the davies_boulden index decreased from 0,638 to 0.597 and the silhouette increased from 0.45 to 0.4748."
   ]
  },
  {
   "attachments": {},
   "cell_type": "markdown",
   "metadata": {
    "collapsed": false
   },
   "source": [
    "Now we are going to visualize the results.\n",
    "For that, we can use a simple scatter plot to see the clustering."
   ]
  },
  {
   "cell_type": "code",
   "execution_count": 65,
   "metadata": {
    "collapsed": false,
    "pycharm": {
     "name": "#%%\n"
    }
   },
   "outputs": [
    {
     "data": {
      "image/png": "[encoded data removed]",
      "text/plain": [
       "<Figure size 640x480 with 1 Axes>"
      ]
     },
     "metadata": {},
     "output_type": "display_data"
    }
   ],
   "source": [
    "\n",
    "# Erstelle ein Scatter Plot mit x-Achse = \"ageincome\" und y-Achse = \"spending_score\"\n",
    "plt.scatter(X[\"ageincome\"], X[\"spending_score\"], c=labels)\n",
    "\n",
    "# Füge Legende und Achsenbeschriftungen hinzu\n",
    "plt.xlabel(\"Ageincome\")\n",
    "plt.ylabel(\"Spending Score\")\n",
    "plt.title(\"K-Means Clustering Results\")\n",
    "\n",
    "# Zeige das Plot an\n",
    "plt.show()"
   ]
  },
  {
   "attachments": {},
   "cell_type": "markdown",
   "metadata": {
    "collapsed": false
   },
   "source": [
    "On the x-axis, we have the column 'ageincome' and on the y-axis, we have the column 'spending_score'. It's important to note that these values have been normalized using the MinMaxScaler, so they cannot be interpreted as absolute values. From the graph, it's clear that each cluster is separated from one another and is represented by a different color. While the clustering appears clean in the visualization, it doesn't necessarily mean that the results are accurate."
   ]
  },
  {
   "cell_type": "markdown",
   "metadata": {},
   "source": []
  }
 ],
 "metadata": {
  "kernelspec": {
   "display_name": "Python 3",
   "language": "python",
   "name": "python3"
  },
  "language_info": {
   "codemirror_mode": {
    "name": "ipython",
    "version": 3
   },
   "file_extension": ".py",
   "mimetype": "text/x-python",
   "name": "python",
   "nbconvert_exporter": "python",
   "pygments_lexer": "ipython3",
   "version": "3.10.9"
  },
  "vscode": {
   "interpreter": {
    "hash": "ae001813ded7f42db91443c48ae54be7bda42513d06843c6e717c6f85f5333ab"
   }
  }
 },
 "nbformat": 4,
 "nbformat_minor": 0
}
